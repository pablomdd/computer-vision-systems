{
 "cells": [
  {
   "cell_type": "code",
   "execution_count": 7,
   "id": "a8154ebc",
   "metadata": {},
   "outputs": [],
   "source": [
    "import numpy as np\n",
    "from skimage.transform import resize \n",
    "import os\n",
    "import re\n",
    "import matplotlib.pyplot as plt\n",
    "%matplotlib inline\n",
    "from sklearn.model_selection import train_test_split\n",
    "from sklearn.metrics import classification_report\n",
    "from tensorflow import keras\n",
    "from tensorflow.keras.utils import to_categorical\n",
    "from tensorflow.keras.models import Sequential,Model\n",
    "from tensorflow.keras import Input\n",
    "from tensorflow.keras.layers import Dense, Dropout, Flatten\n",
    "from tensorflow.keras.layers import Conv2D, MaxPooling2D\n",
    "from tensorflow.keras.layers import BatchNormalization\n",
    "from tensorflow.keras.layers import LeakyReLU"
   ]
  },
  {
   "cell_type": "markdown",
   "id": "022051ee",
   "metadata": {},
   "source": [
    "# Load images\n",
    "Unzip `sportsimages.zip` first."
   ]
  },
  {
   "cell_type": "code",
   "execution_count": 8,
   "id": "1969e484",
   "metadata": {},
   "outputs": [
    {
     "name": "stdout",
     "output_type": "stream",
     "text": [
      "leyendo imagenes de  d:\\petir\\Documents\\GitHub\\computer-vision-systems\\Practica3_CNN_flowers\\flower_photos\\\n",
      "d:\\petir\\Documents\\GitHub\\computer-vision-systems\\Practica3_CNN_flowers\\flower_photos\\daisy 1\n",
      "d:\\petir\\Documents\\GitHub\\computer-vision-systems\\Practica3_CNN_flowers\\flower_photos\\dandelion 633\n",
      "d:\\petir\\Documents\\GitHub\\computer-vision-systems\\Practica3_CNN_flowers\\flower_photos\\roses 898\n",
      "d:\\petir\\Documents\\GitHub\\computer-vision-systems\\Practica3_CNN_flowers\\flower_photos\\sunflowers 641\n",
      "d:\\petir\\Documents\\GitHub\\computer-vision-systems\\Practica3_CNN_flowers\\flower_photos\\tulips 699\n",
      "Directorios leidos: 5\n",
      "Imagenes en cada directorio [634, 898, 641, 699, 798]\n",
      "suma Total de imagenes en subdirs: 3670\n"
     ]
    }
   ],
   "source": [
    "dirname = os.path.join(os.getcwd(), 'flower_photos')\n",
    "imgpath = dirname + os.sep \n",
    "\n",
    "images = []\n",
    "directories = []\n",
    "dircount = []\n",
    "prevRoot = ''\n",
    "cant = 0\n",
    "\n",
    "print(\"leyendo imagenes de \",imgpath)\n",
    "\n",
    "for root, dirnames, filenames in os.walk(imgpath):\n",
    "    for filename in filenames:\n",
    "        if re.search(\"\\.(jpg|jpeg|png|bmp|tiff)$\", filename):\n",
    "            cant=cant+1\n",
    "            filepath = os.path.join(root, filename)\n",
    "            image = plt.imread(filepath)\n",
    "            image = resize(image, (21, 28), anti_aliasing=True, clip=False, preserve_range=True)\n",
    "            images.append(image)\n",
    "            b = \"Leyendo...\" + str(cant)\n",
    "            print (b, end=\"\\r\")\n",
    "            if prevRoot !=root:\n",
    "                print(root, cant)\n",
    "                prevRoot=root\n",
    "                directories.append(root)\n",
    "                dircount.append(cant)\n",
    "                cant=0\n",
    "dircount.append(cant)\n",
    "\n",
    "dircount = dircount[1:]\n",
    "dircount[0] = dircount[0]+1\n",
    "print('Directorios leidos:',len(directories))\n",
    "print(\"Imagenes en cada directorio\", dircount)\n",
    "print('suma Total de imagenes en subdirs:',sum(dircount))"
   ]
  },
  {
   "cell_type": "markdown",
   "id": "e2607aa8",
   "metadata": {},
   "source": [
    "# Create Labels"
   ]
  },
  {
   "cell_type": "code",
   "execution_count": 9,
   "id": "460da551",
   "metadata": {},
   "outputs": [
    {
     "name": "stdout",
     "output_type": "stream",
     "text": [
      "Cantidad etiquetas creadas:  3670\n"
     ]
    }
   ],
   "source": [
    "labels=[]\n",
    "indice=0\n",
    "for cantidad in dircount:\n",
    "    for i in range(cantidad):\n",
    "        labels.append(indice)\n",
    "    indice=indice+1\n",
    "print(\"Cantidad etiquetas creadas: \",len(labels))\n"
   ]
  },
  {
   "cell_type": "code",
   "execution_count": 10,
   "id": "b1b4774c",
   "metadata": {},
   "outputs": [
    {
     "name": "stdout",
     "output_type": "stream",
     "text": [
      "0 daisy\n",
      "1 dandelion\n",
      "2 roses\n",
      "3 sunflowers\n",
      "4 tulips\n"
     ]
    }
   ],
   "source": [
    "deportes=[]\n",
    "indice=0\n",
    "for directorio in directories:\n",
    "    name = directorio.split(os.sep)\n",
    "    print(indice , name[len(name)-1])\n",
    "    deportes.append(name[len(name)-1])\n",
    "    indice=indice+1\n"
   ]
  },
  {
   "cell_type": "code",
   "execution_count": 11,
   "id": "e8f47d75",
   "metadata": {},
   "outputs": [
    {
     "name": "stdout",
     "output_type": "stream",
     "text": [
      "Total number of outputs :  5\n",
      "Output classes :  [0 1 2 3 4]\n"
     ]
    }
   ],
   "source": [
    "y = np.array(labels)\n",
    "X = np.array(images, dtype=np.uint8) #convierto de lista a numpy\n",
    "\n",
    "# Find the unique numbers from the train labels\n",
    "classes = np.unique(y)\n",
    "nClasses = len(classes)\n",
    "print('Total number of outputs : ', nClasses)\n",
    "print('Output classes : ', classes)"
   ]
  },
  {
   "cell_type": "markdown",
   "id": "0ceb2259",
   "metadata": {},
   "source": [
    "Create training sets, validation and preprocessing"
   ]
  },
  {
   "cell_type": "code",
   "execution_count": 12,
   "id": "1868e5a3",
   "metadata": {},
   "outputs": [
    {
     "name": "stdout",
     "output_type": "stream",
     "text": [
      "Training data shape :  (2936, 21, 28, 3) (2936,)\n",
      "Testing data shape :  (734, 21, 28, 3) (734,)\n"
     ]
    }
   ],
   "source": [
    "train_X,test_X,train_Y,test_Y = train_test_split(X,y,test_size=0.2)\n",
    "print('Training data shape : ', train_X.shape, train_Y.shape)\n",
    "print('Testing data shape : ', test_X.shape, test_Y.shape)\n"
   ]
  },
  {
   "cell_type": "code",
   "execution_count": 13,
   "id": "3331348b",
   "metadata": {},
   "outputs": [
    {
     "data": {
      "text/plain": [
       "Text(0.5, 1.0, 'Ground Truth : 3')"
      ]
     },
     "execution_count": 13,
     "metadata": {},
     "output_type": "execute_result"
    },
    {
     "data": {
      "image/png": "[encoded data removed]",
      "text/plain": [
       "<Figure size 360x360 with 2 Axes>"
      ]
     },
     "metadata": {
      "needs_background": "light"
     },
     "output_type": "display_data"
    }
   ],
   "source": [
    "plt.figure(figsize=[5,5])\n",
    "\n",
    "# Display the first image in training data\n",
    "plt.subplot(121)\n",
    "plt.imshow(train_X[0,:,:], cmap='gray')\n",
    "plt.title(\"Ground Truth : {}\".format(train_Y[0]))\n",
    "\n",
    "# Display the first image in testing data\n",
    "plt.subplot(122)\n",
    "plt.imshow(test_X[0,:,:], cmap='gray')\n",
    "plt.title(\"Ground Truth : {}\".format(test_Y[0]))"
   ]
  },
  {
   "cell_type": "markdown",
   "id": "e607c0c2",
   "metadata": {},
   "source": [
    "## Image Preprocessing\n"
   ]
  },
  {
   "cell_type": "code",
   "execution_count": 14,
   "id": "1b324b4f",
   "metadata": {},
   "outputs": [],
   "source": [
    "train_X = train_X.astype('float32')\n",
    "test_X = test_X.astype('float32')\n",
    "train_X = train_X / 255.\n",
    "test_X = test_X / 255."
   ]
  },
  {
   "cell_type": "markdown",
   "id": "0c9bfa2c",
   "metadata": {},
   "source": [
    "## Network hot-encoding"
   ]
  },
  {
   "cell_type": "code",
   "execution_count": 15,
   "id": "2c9d56fa",
   "metadata": {},
   "outputs": [
    {
     "name": "stdout",
     "output_type": "stream",
     "text": [
      "Original label: 4\n",
      "After conversion to one-hot: [0. 0. 0. 0. 1.]\n"
     ]
    }
   ],
   "source": [
    "# Change the labels from categorical to one-hot encoding\n",
    "train_Y_one_hot = to_categorical(train_Y)\n",
    "test_Y_one_hot = to_categorical(test_Y)\n",
    "\n",
    "# Display the change for category label using one-hot encoding\n",
    "print('Original label:', train_Y[0])\n",
    "print('After conversion to one-hot:', train_Y_one_hot[0])"
   ]
  },
  {
   "cell_type": "markdown",
   "id": "666b919a",
   "metadata": {},
   "source": [
    "# Training Set and validation"
   ]
  },
  {
   "cell_type": "code",
   "execution_count": 16,
   "id": "b3bd68dd",
   "metadata": {},
   "outputs": [],
   "source": [
    "#Mezclar todo y crear los grupos de entrenamiento y testing\n",
    "train_X,valid_X,train_label,valid_label = train_test_split(train_X, train_Y_one_hot, test_size=0.2, random_state=13)\n"
   ]
  },
  {
   "cell_type": "code",
   "execution_count": 17,
   "id": "6c7e3a3a",
   "metadata": {},
   "outputs": [
    {
     "name": "stdout",
     "output_type": "stream",
     "text": [
      "(2348, 21, 28, 3) (588, 21, 28, 3) (2348, 5) (588, 5)\n"
     ]
    }
   ],
   "source": [
    "print(train_X.shape,valid_X.shape,train_label.shape,valid_label.shape)\n"
   ]
  },
  {
   "cell_type": "markdown",
   "id": "35b11c56",
   "metadata": {},
   "source": [
    "# Create CNN"
   ]
  },
  {
   "cell_type": "code",
   "execution_count": 46,
   "id": "33fd5c63",
   "metadata": {},
   "outputs": [],
   "source": [
    "# Parameters\n",
    "INIT_LR = 1e-3 # Valor inicial de learning rate. El valor 1e-3 corresponde con 0.001\n",
    "epochs = 20 # Cantidad de iteraciones completas al conjunto de imagenes de entrenamiento\n",
    "batch_size = 64 # cantidad de imágenes que se toman a la vez en memoria"
   ]
  },
  {
   "cell_type": "code",
   "execution_count": 47,
   "id": "d2bb4dc0",
   "metadata": {},
   "outputs": [],
   "source": [
    "sport_model = Sequential()\n",
    "sport_model.add(Conv2D(32, kernel_size=(3, 3),activation='linear',padding='same',input_shape=(21,28,3)))\n",
    "sport_model.add(LeakyReLU(alpha=0.1))\n",
    "sport_model.add(MaxPooling2D((2, 2),padding='same'))\n",
    "sport_model.add(Dropout(0.5))\n",
    "\n",
    "sport_model.add(Flatten())\n",
    "sport_model.add(Dense(32, activation='linear'))\n",
    "sport_model.add(LeakyReLU(alpha=0.1))\n",
    "sport_model.add(Dropout(0.5))\n",
    "sport_model.add(Dense(nClasses, activation='softmax'))"
   ]
  },
  {
   "cell_type": "code",
   "execution_count": 48,
   "id": "1acd536b",
   "metadata": {},
   "outputs": [
    {
     "name": "stdout",
     "output_type": "stream",
     "text": [
      "Model: \"sequential_3\"\n",
      "_________________________________________________________________\n",
      "Layer (type)                 Output Shape              Param #   \n",
      "=================================================================\n",
      "conv2d_3 (Conv2D)            (None, 21, 28, 32)        896       \n",
      "_________________________________________________________________\n",
      "leaky_re_lu_6 (LeakyReLU)    (None, 21, 28, 32)        0         \n",
      "_________________________________________________________________\n",
      "max_pooling2d_3 (MaxPooling2 (None, 11, 14, 32)        0         \n",
      "_________________________________________________________________\n",
      "dropout_6 (Dropout)          (None, 11, 14, 32)        0         \n",
      "_________________________________________________________________\n",
      "flatten_3 (Flatten)          (None, 4928)              0         \n",
      "_________________________________________________________________\n",
      "dense_6 (Dense)              (None, 32)                157728    \n",
      "_________________________________________________________________\n",
      "leaky_re_lu_7 (LeakyReLU)    (None, 32)                0         \n",
      "_________________________________________________________________\n",
      "dropout_7 (Dropout)          (None, 32)                0         \n",
      "_________________________________________________________________\n",
      "dense_7 (Dense)              (None, 5)                 165       \n",
      "=================================================================\n",
      "Total params: 158,789\n",
      "Trainable params: 158,789\n",
      "Non-trainable params: 0\n",
      "_________________________________________________________________\n"
     ]
    }
   ],
   "source": [
    "sport_model.summary()\n"
   ]
  },
  {
   "cell_type": "code",
   "execution_count": 49,
   "id": "5c018762",
   "metadata": {},
   "outputs": [],
   "source": [
    "sport_model.compile(loss=keras.losses.categorical_crossentropy, optimizer=keras.optimizers.Adagrad(lr=INIT_LR, decay=INIT_LR / 100),metrics=['accuracy'])\n"
   ]
  },
  {
   "cell_type": "markdown",
   "id": "95a49667",
   "metadata": {},
   "source": [
    "# Training"
   ]
  },
  {
   "cell_type": "code",
   "execution_count": 50,
   "id": "2b13fda3",
   "metadata": {},
   "outputs": [
    {
     "name": "stdout",
     "output_type": "stream",
     "text": [
      "Epoch 1/20\n",
      "37/37 [==============================] - 1s 26ms/step - loss: 1.6396 - accuracy: 0.2066 - val_loss: 1.5930 - val_accuracy: 0.2925\n",
      "Epoch 2/20\n",
      "37/37 [==============================] - 1s 23ms/step - loss: 1.6047 - accuracy: 0.2428 - val_loss: 1.5867 - val_accuracy: 0.3180\n",
      "Epoch 3/20\n",
      "37/37 [==============================] - 1s 22ms/step - loss: 1.5985 - accuracy: 0.2517 - val_loss: 1.5829 - val_accuracy: 0.3299\n",
      "Epoch 4/20\n",
      "37/37 [==============================] - 1s 21ms/step - loss: 1.5990 - accuracy: 0.2517 - val_loss: 1.5773 - val_accuracy: 0.3350\n",
      "Epoch 5/20\n",
      "37/37 [==============================] - 1s 21ms/step - loss: 1.5846 - accuracy: 0.2790 - val_loss: 1.5696 - val_accuracy: 0.3418\n",
      "Epoch 6/20\n",
      "37/37 [==============================] - 1s 21ms/step - loss: 1.5793 - accuracy: 0.2730 - val_loss: 1.5639 - val_accuracy: 0.3520\n",
      "Epoch 7/20\n",
      "37/37 [==============================] - 1s 23ms/step - loss: 1.5717 - accuracy: 0.3011 - val_loss: 1.5569 - val_accuracy: 0.3537\n",
      "Epoch 8/20\n",
      "37/37 [==============================] - 1s 22ms/step - loss: 1.5749 - accuracy: 0.2794 - val_loss: 1.5491 - val_accuracy: 0.3537\n",
      "Epoch 9/20\n",
      "37/37 [==============================] - 1s 22ms/step - loss: 1.5635 - accuracy: 0.2943 - val_loss: 1.5396 - val_accuracy: 0.3537\n",
      "Epoch 10/20\n",
      "37/37 [==============================] - 1s 22ms/step - loss: 1.5637 - accuracy: 0.2934 - val_loss: 1.5332 - val_accuracy: 0.3588\n",
      "Epoch 11/20\n",
      "37/37 [==============================] - 1s 21ms/step - loss: 1.5508 - accuracy: 0.3062 - val_loss: 1.5272 - val_accuracy: 0.3571\n",
      "Epoch 12/20\n",
      "37/37 [==============================] - 1s 20ms/step - loss: 1.5383 - accuracy: 0.3020 - val_loss: 1.5169 - val_accuracy: 0.3656\n",
      "Epoch 13/20\n",
      "37/37 [==============================] - 1s 20ms/step - loss: 1.5371 - accuracy: 0.3160 - val_loss: 1.5094 - val_accuracy: 0.3656\n",
      "Epoch 14/20\n",
      "37/37 [==============================] - 1s 20ms/step - loss: 1.5274 - accuracy: 0.3237 - val_loss: 1.4997 - val_accuracy: 0.3741\n",
      "Epoch 15/20\n",
      "37/37 [==============================] - 1s 20ms/step - loss: 1.5359 - accuracy: 0.3135 - val_loss: 1.4962 - val_accuracy: 0.3759\n",
      "Epoch 16/20\n",
      "37/37 [==============================] - 1s 19ms/step - loss: 1.5246 - accuracy: 0.3194 - val_loss: 1.4884 - val_accuracy: 0.3878\n",
      "Epoch 17/20\n",
      "37/37 [==============================] - 1s 22ms/step - loss: 1.5102 - accuracy: 0.3377 - val_loss: 1.4800 - val_accuracy: 0.3946\n",
      "Epoch 18/20\n",
      "37/37 [==============================] - 1s 20ms/step - loss: 1.5044 - accuracy: 0.3288 - val_loss: 1.4736 - val_accuracy: 0.3793\n",
      "Epoch 19/20\n",
      "37/37 [==============================] - 1s 20ms/step - loss: 1.4938 - accuracy: 0.3501 - val_loss: 1.4655 - val_accuracy: 0.3980\n",
      "Epoch 20/20\n",
      "37/37 [==============================] - 1s 20ms/step - loss: 1.4850 - accuracy: 0.3586 - val_loss: 1.4594 - val_accuracy: 0.3963\n"
     ]
    }
   ],
   "source": [
    "sport_train = sport_model.fit(train_X, train_label, batch_size=batch_size,epochs=epochs,verbose=1,validation_data=(valid_X, valid_label))\n"
   ]
  },
  {
   "cell_type": "code",
   "execution_count": 51,
   "id": "adc4c88c",
   "metadata": {},
   "outputs": [
    {
     "name": "stdout",
     "output_type": "stream",
     "text": [
      "INFO:tensorflow:Assets written to: sports_mnist.h5py\\assets\n"
     ]
    }
   ],
   "source": [
    "sport_model.save(\"sports_mnist.h5py\")\n"
   ]
  },
  {
   "cell_type": "markdown",
   "id": "d12c2739",
   "metadata": {},
   "source": [
    "# Testing"
   ]
  },
  {
   "cell_type": "code",
   "execution_count": 52,
   "id": "289def38",
   "metadata": {},
   "outputs": [
    {
     "name": "stdout",
     "output_type": "stream",
     "text": [
      "23/23 [==============================] - 0s 3ms/step - loss: 1.4669 - accuracy: 0.3692\n"
     ]
    }
   ],
   "source": [
    "test_eval = sport_model.evaluate(test_X, test_Y_one_hot, verbose=1)\n"
   ]
  },
  {
   "cell_type": "code",
   "execution_count": 54,
   "id": "0356bb4c",
   "metadata": {},
   "outputs": [
    {
     "name": "stdout",
     "output_type": "stream",
     "text": [
      "Test loss: 1.4668508768081665\n",
      "Test accuracy: 0.36920979619026184\n"
     ]
    }
   ],
   "source": [
    "print('Test loss:', test_eval[0])\n",
    "print('Test accuracy:', test_eval[1])"
   ]
  },
  {
   "cell_type": "code",
   "execution_count": 55,
   "id": "b2fc0294",
   "metadata": {},
   "outputs": [
    {
     "data": {
      "image/png": "[encoded data removed]",
      "text/plain": [
       "<Figure size 432x288 with 1 Axes>"
      ]
     },
     "metadata": {
      "needs_background": "light"
     },
     "output_type": "display_data"
    },
    {
     "data": {
      "image/png": "[encoded data removed]",
      "text/plain": [
       "<Figure size 432x288 with 1 Axes>"
      ]
     },
     "metadata": {
      "needs_background": "light"
     },
     "output_type": "display_data"
    }
   ],
   "source": [
    "accuracy = sport_train.history['accuracy']\n",
    "val_accuracy = sport_train.history['val_accuracy']\n",
    "loss = sport_train.history['loss']\n",
    "val_loss = sport_train.history['val_loss']\n",
    "epochs = range(len(accuracy))\n",
    "plt.plot(epochs, accuracy, 'bo', label='Training accuracy')\n",
    "plt.plot(epochs, val_accuracy, 'b', label='Validation accuracy')\n",
    "plt.title('Training and validation accuracy')\n",
    "plt.legend()\n",
    "plt.figure()\n",
    "plt.plot(epochs, loss, 'bo', label='Training loss')\n",
    "plt.plot(epochs, val_loss, 'b', label='Validation loss')\n",
    "plt.title('Training and validation loss')\n",
    "plt.legend()\n",
    "plt.show()"
   ]
  },
  {
   "cell_type": "code",
   "execution_count": 27,
   "id": "caa3e064",
   "metadata": {},
   "outputs": [
    {
     "data": {
      "text/plain": [
       "((734,), (734,))"
      ]
     },
     "execution_count": 27,
     "metadata": {},
     "output_type": "execute_result"
    }
   ],
   "source": [
    "predicted_classes2 = sport_model.predict(test_X)\n",
    "predicted_classes=[]\n",
    "for predicted_sport in predicted_classes2:\n",
    "    predicted_classes.append(predicted_sport.tolist().index(max(predicted_sport)))\n",
    "predicted_classes=np.array(predicted_classes)\n",
    "predicted_classes.shape, test_Y.shape\n"
   ]
  },
  {
   "cell_type": "markdown",
   "id": "de12bb3b",
   "metadata": {},
   "source": [
    "# Evaluation"
   ]
  },
  {
   "cell_type": "code",
   "execution_count": 35,
   "id": "a239e989",
   "metadata": {},
   "outputs": [
    {
     "name": "stdout",
     "output_type": "stream",
     "text": [
      "Found 11059 correct labels\n"
     ]
    },
    {
     "data": {
      "image/png": "[encoded data removed]",
      "text/plain": [
       "<Figure size 432x288 with 8 Axes>"
      ]
     },
     "metadata": {
      "needs_background": "light"
     },
     "output_type": "display_data"
    }
   ],
   "source": [
    "correct = np.where(predicted_classes==test_Y)[0]\n",
    "print(\"Found %d correct labels\" % len(correct))\n",
    "for i, correct in enumerate(correct[0:9]):\n",
    "    plt.subplot(3,3,i+1)\n",
    "    plt.imshow(test_X[correct].reshape(21,28,3), cmap='gray', interpolation='none')\n",
    "    plt.title(\"{}, {}\".format(deportes[predicted_classes[correct]],\n",
    "                                                    deportes[test_Y[correct]]))\n",
    "\n",
    "    plt.tight_layout()"
   ]
  },
  {
   "cell_type": "code",
   "execution_count": 36,
   "id": "1ee71903",
   "metadata": {},
   "outputs": [
    {
     "name": "stdout",
     "output_type": "stream",
     "text": [
      "Found 4367 incorrect labels\n"
     ]
    },
    {
     "data": {
      "image/png": "[encoded data removed]",
      "text/plain": [
       "<Figure size 432x288 with 8 Axes>"
      ]
     },
     "metadata": {
      "needs_background": "light"
     },
     "output_type": "display_data"
    }
   ],
   "source": [
    "incorrect = np.where(predicted_classes!=test_Y)[0]\n",
    "print(\"Found %d incorrect labels\" % len(incorrect))\n",
    "for i, incorrect in enumerate(incorrect[0:9]):\n",
    "    plt.subplot(3,3,i+1)\n",
    "    plt.imshow(test_X[incorrect].reshape(21,28,3), cmap='gray', interpolation='none')\n",
    "    plt.title(\"{}, {}\".format(deportes[predicted_classes[incorrect]],\n",
    "                                                    deportes[test_Y[incorrect]]))\n",
    "    plt.tight_layout()"
   ]
  },
  {
   "cell_type": "code",
   "execution_count": 37,
   "id": "4b0b339e",
   "metadata": {},
   "outputs": [
    {
     "name": "stdout",
     "output_type": "stream",
     "text": [
      "              precision    recall  f1-score   support\n",
      "\n",
      "     Class 0       0.54      0.39      0.45      1845\n",
      "     Class 1       0.63      0.81      0.71      1803\n",
      "     Class 2       0.86      0.39      0.54      1560\n",
      "     Class 3       0.74      0.80      0.77      1440\n",
      "     Class 4       0.94      0.98      0.96      1569\n",
      "     Class 5       0.85      0.16      0.26      1017\n",
      "     Class 6       0.89      0.69      0.78      1469\n",
      "     Class 7       0.48      0.89      0.62      1910\n",
      "     Class 8       0.94      0.91      0.92      1012\n",
      "     Class 9       0.89      1.00      0.94      1801\n",
      "\n",
      "    accuracy                           0.72     15426\n",
      "   macro avg       0.78      0.70      0.70     15426\n",
      "weighted avg       0.76      0.72      0.70     15426\n",
      "\n"
     ]
    }
   ],
   "source": [
    "target_names = [\"Class {}\".format(i) for i in range(nClasses)]\n",
    "print(classification_report(test_Y, predicted_classes, target_names=target_names))\n"
   ]
  },
  {
   "cell_type": "markdown",
   "id": "505955bf",
   "metadata": {},
   "source": [
    "# Manual testing"
   ]
  },
  {
   "cell_type": "code",
   "execution_count": 39,
   "id": "48f36d65",
   "metadata": {},
   "outputs": [
    {
     "name": "stdout",
     "output_type": "stream",
     "text": [
      "test/f1_1.jpg golf\n",
      "test/f1_2.jpg golf\n",
      "test/soccer_1.jpg golf\n",
      "test/box_1.jpg basket\n"
     ]
    }
   ],
   "source": [
    "from skimage.transform import resize\n",
    "\n",
    "images=[]\n",
    "# AQUI ESPECIFICAMOS UNAS IMAGENES\n",
    "filenames = ['test/f1_1.jpg', 'test/f1_2.jpg', 'test/soccer_1.jpg', 'test/box_1.jpg']\n",
    "\n",
    "for filepath in filenames:\n",
    "    image = plt.imread(filepath,0)\n",
    "    image_resized = resize(image, (21, 28),anti_aliasing=True,clip=False,preserve_range=True)\n",
    "    images.append(image_resized)\n",
    "\n",
    "X = np.array(images, dtype=np.uint8) #convierto de lista a numpy\n",
    "test_X = X.astype('float32')\n",
    "test_X = test_X / 255.\n",
    "\n",
    "predicted_classes = sport_model.predict(test_X)\n",
    "\n",
    "for i, img_tagged in enumerate(predicted_classes):\n",
    "    print(filenames[i], deportes[img_tagged.tolist().index(max(img_tagged))])"
   ]
  }
 ],
 "metadata": {
  "kernelspec": {
   "display_name": "Python 3",
   "language": "python",
   "name": "python3"
  },
  "language_info": {
   "codemirror_mode": {
    "name": "ipython",
    "version": 3
   },
   "file_extension": ".py",
   "mimetype": "text/x-python",
   "name": "python",
   "nbconvert_exporter": "python",
   "pygments_lexer": "ipython3",
   "version": "3.8.8"
  }
 },
 "nbformat": 4,
 "nbformat_minor": 5
}
