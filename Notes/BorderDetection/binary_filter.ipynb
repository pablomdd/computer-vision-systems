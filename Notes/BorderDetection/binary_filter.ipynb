{
 "cells": [
  {
   "cell_type": "code",
   "execution_count": 23,
   "metadata": {},
   "outputs": [],
   "source": [
    "file = open(\"diamante.bmp\",\"rb\")\n",
    "fileo = open(\"diamante_bordes.bmp\",\"wb\") #w:write, b:binary\n",
    "\n",
    "metaData = file.read(54) \n",
    "fileo.write(metaData)\n",
    "file.seek(54,0)\n",
    "\n",
    "blanco = [0xff,0xff,0xff]\n",
    "negro = [0x00,0x00,0x00]\n",
    "\n",
    "no_pix = 0\n",
    "# Iniciar prev en blanco\n",
    "prev = blanco\n",
    "while(True):\n",
    "    pixel_data = file.read(3)\n",
    "    if(len(pixel_data) > 0):\n",
    "        valor_ent = int.from_bytes(bytes(pixel_data),byteorder='little')\n",
    "        valor_ent_prev = int.from_bytes(bytes(prev),byteorder='little')\n",
    "        if valor_ent == valor_ent_prev:\n",
    "            fileo.write(bytes(blanco))\n",
    "        else:\n",
    "            fileo.write(bytes(negro))\n",
    "        # Actualizar prev\n",
    "        prev = pixel_data\n",
    "        no_pix += 1\n",
    "    else:\n",
    "        break\n",
    "file.close()\n",
    "fileo.close()\n"
   ]
  },
  {
   "cell_type": "markdown",
   "metadata": {},
   "source": [
    "## Nota:\n",
    "Como resulado obtenemos una imagen con 1 paso más de borde. Es necesario considerar la lectura de dos píxeles, en lugar de uno, para solucionarlo."
   ]
  }
 ],
 "metadata": {
  "interpreter": {
   "hash": "2537d64cea9fcff871e65e4334908bcb675b00a877c8639e72bb339814c3baee"
  },
  "kernelspec": {
   "display_name": "Python 3.8.8 64-bit ('base': conda)",
   "name": "python3"
  },
  "language_info": {
   "codemirror_mode": {
    "name": "ipython",
    "version": 3
   },
   "file_extension": ".py",
   "mimetype": "text/x-python",
   "name": "python",
   "nbconvert_exporter": "python",
   "pygments_lexer": "ipython3",
   "version": "3.8.8"
  }
 },
 "nbformat": 4,
 "nbformat_minor": 4
}
