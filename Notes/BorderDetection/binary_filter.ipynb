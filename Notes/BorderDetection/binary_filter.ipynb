{
 "cells": [
  {
   "cell_type": "code",
   "execution_count": 23,
   "source": [
    "file = open(\"diamante.bmp\",\"rb\")\r\n",
    "fileo = open(\"diamante_bordes.bmp\",\"wb\") #w:write, b:binary\r\n",
    "\r\n",
    "metaData = file.read(54) \r\n",
    "fileo.write(metaData)\r\n",
    "file.seek(54,0)\r\n",
    "\r\n",
    "blanco = [0xff,0xff,0xff]\r\n",
    "negro = [0x00,0x00,0x00]\r\n",
    "\r\n",
    "no_pix = 0\r\n",
    "# Iniciar prev en blanco\r\n",
    "prev = blanco\r\n",
    "while(True):\r\n",
    "    pixel_data = file.read(3)\r\n",
    "    if(len(pixel_data) > 0):\r\n",
    "        valor_ent = int.from_bytes(bytes(pixel_data),byteorder='little')\r\n",
    "        valor_ent_prev = int.from_bytes(bytes(prev),byteorder='little')\r\n",
    "        if valor_ent == valor_ent_prev:\r\n",
    "            fileo.write(bytes(blanco))\r\n",
    "        else:\r\n",
    "            fileo.write(bytes(negro))\r\n",
    "        # Actualizar prev\r\n",
    "        prev = pixel_data\r\n",
    "        no_pix += 1\r\n",
    "    else:\r\n",
    "        break\r\n",
    "file.close()\r\n",
    "fileo.close()\r\n"
   ],
   "outputs": [],
   "metadata": {}
  },
  {
   "cell_type": "markdown",
   "source": [
    "## Nota:\r\n",
    "Como resulado obtenemos una imagen con 1 paso más de borde. Es necesario considerar la lectura de dos píxeles, en lugar de uno, para solucionarlo."
   ],
   "metadata": {}
  }
 ],
 "metadata": {
  "kernelspec": {
   "name": "python3",
   "display_name": "Python 3.8.8 64-bit ('base': conda)"
  },
  "language_info": {
   "codemirror_mode": {
    "name": "ipython",
    "version": 3
   },
   "file_extension": ".py",
   "mimetype": "text/x-python",
   "name": "python",
   "nbconvert_exporter": "python",
   "pygments_lexer": "ipython3",
   "version": "3.8.8"
  },
  "interpreter": {
   "hash": "2537d64cea9fcff871e65e4334908bcb675b00a877c8639e72bb339814c3baee"
  }
 },
 "nbformat": 4,
 "nbformat_minor": 4
}