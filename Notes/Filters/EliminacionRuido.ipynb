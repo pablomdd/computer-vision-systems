{
 "cells": [
  {
   "cell_type": "code",
   "execution_count": 54,
   "source": [
    "from PIL import Image, ImageFilter\r\n",
    " \r\n",
    "#abre la imagen original en el entorno de python\r\n",
    " \r\n",
    "imagen = Image.open('./homework/snoopy_k3_1.jpg')\r\n",
    " \r\n",
    "nueva_imagen = imagen.filter(ImageFilter.MedianFilter(size=3))\r\n",
    " \r\n",
    "#se guarda el resultado\r\n",
    " \r\n",
    "nueva_imagen.save('./homework/snoopy_k3_2.jpg')\r\n",
    " \r\n",
    "#se cierran ambos objetos creados de la clase\r\n",
    " \r\n",
    "imagen.close()\r\n",
    " \r\n",
    "nueva_imagen.close()"
   ],
   "outputs": [],
   "metadata": {}
  },
  {
   "cell_type": "code",
   "execution_count": null,
   "source": [],
   "outputs": [],
   "metadata": {}
  }
 ],
 "metadata": {
  "kernelspec": {
   "name": "python3",
   "display_name": "Python 3.8.8 64-bit ('cv': conda)"
  },
  "language_info": {
   "codemirror_mode": {
    "name": "ipython",
    "version": 3
   },
   "file_extension": ".py",
   "mimetype": "text/x-python",
   "name": "python",
   "nbconvert_exporter": "python",
   "pygments_lexer": "ipython3",
   "version": "3.8.8"
  },
  "interpreter": {
   "hash": "bb33d9a5cb158f1ceb37bc788e460d7cc5de299d6ac55b12a4a8ee88ba1624dc"
  }
 },
 "nbformat": 4,
 "nbformat_minor": 4
}