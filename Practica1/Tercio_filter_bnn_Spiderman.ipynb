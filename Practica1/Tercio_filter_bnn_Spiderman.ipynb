{
 "cells": [
  {
   "cell_type": "code",
   "execution_count": 1,
   "metadata": {},
   "outputs": [
    {
     "name": "stdout",
     "output_type": "stream",
     "text": [
      "b'BM\\x16\\xaa*\\x00\\x00\\x00\\x00\\x006\\x00\\x00\\x00(\\x00\\x00\\x00\\xe8\\x03\\x00\\x00\\xa4\\x03\\x00\\x00\\x01\\x00\\x18\\x00\\x00\\x00\\x00\\x00\\xe0\\xa9*\\x00\\xc4\\x0e\\x00\\x00\\xc4\\x0e\\x00\\x00\\x00\\x00\\x00\\x00\\x00\\x00\\x00\\x00'\n",
      "No Pixels: 932000\n"
     ]
    }
   ],
   "source": [
    "#Handler del archivo: file\n",
    "file = open(\"spiderman.bmp\",\"rb\")\n",
    "fileo = open(\"spidermanBNN.bmp\",\"wb\") # w:write, b:binary \n",
    "\n",
    "#file = open(\"example001.bmp\",\"rb\")\n",
    "#fileo = open(\"example001BNN.bmp\",\"wb\") # w:write, b:binary \n",
    "\n",
    "meta_data = file.read(54)  \n",
    "print(meta_data)\n",
    "fileo.write(meta_data)\n",
    "\n",
    "# saltar meta data\n",
    "file.seek(54,0)\n",
    "\n",
    "valor_max = pow(2,24) - 1\n",
    "tercio = valor_max // 3\n",
    "\n",
    "blanco = [0xff, 0xff, 0xff]\n",
    "#f44611 codigo hexadecimal naranja\n",
    "naranja = [0x12, 0x9c, 0xf3]\n",
    "negro = [0x00, 0x00, 0x00]\n",
    "\n",
    "no_pix = 0\n",
    "\n",
    "while(True):\n",
    "    # Leer pixel - 3 bytes\n",
    "    pixel_data = file.read(3) \n",
    "    if( len(pixel_data) > 0 ):\n",
    "        valor_ent = int.from_bytes(bytes(pixel_data),byteorder='little')\n",
    "        \n",
    "        if valor_ent < tercio:\n",
    "            fileo.write(bytes(blanco))\n",
    "        elif  tercio + 1 < valor_ent < 2 * tercio:\n",
    "            fileo.write(bytes(naranja))\n",
    "        else:\n",
    "            fileo.write(bytes(negro))\n",
    "        no_pix += 1\n",
    "    else:\n",
    "        break\n",
    "\n",
    "print('No Pixels: ' + str(no_pix))\n",
    "\n",
    "file.close()\n",
    "fileo.close()"
   ]
  },
  {
   "cell_type": "code",
   "execution_count": 36,
   "metadata": {},
   "outputs": [
    {
     "name": "stdout",
     "output_type": "stream",
     "text": [
      "822\n"
     ]
    }
   ],
   "source": [
    "print(256*3+54)"
   ]
  },
  {
   "cell_type": "code",
   "execution_count": 37,
   "metadata": {},
   "outputs": [
    {
     "name": "stdout",
     "output_type": "stream",
     "text": [
      "b'BM'\n"
     ]
    }
   ],
   "source": [
    "#Handler del archivo: file\n",
    "#Leer\n",
    "#Ubicarme en alguna parte del archivo\n",
    "\n",
    "file = open(\"example001.bmp\",\"rb\")\n",
    "\n",
    "firm = file.read(2)  \n",
    "print(firm)"
   ]
  },
  {
   "cell_type": "code",
   "execution_count": 41,
   "metadata": {},
   "outputs": [
    {
     "name": "stdout",
     "output_type": "stream",
     "text": [
      "513\n",
      "66048\n"
     ]
    }
   ],
   "source": [
    "test_i = [0x00,0x02,0x01] # 0x201 : 1x16^0+0x16^1+2x16^2 = 1+512=513 BMS on Left\n",
    "# BMS on Right [0x01,0x02,0x00] : 0x10200 = 66048\n",
    "\n",
    "print(int.from_bytes(bytes(test_i),byteorder='big'))\n",
    "\n",
    "print(int.from_bytes(bytes(test_i),byteorder='little'))\n"
   ]
  },
  {
   "cell_type": "code",
   "execution_count": 42,
   "metadata": {},
   "outputs": [
    {
     "name": "stdout",
     "output_type": "stream",
     "text": [
      "16777215\n"
     ]
    }
   ],
   "source": [
    "valor_max = pow(2,24)-1\n",
    "\n",
    "rango = valor_max/2\n",
    "\n",
    "print(valor_max)"
   ]
  },
  {
   "cell_type": "code",
   "execution_count": null,
   "metadata": {},
   "outputs": [],
   "source": []
  }
 ],
 "metadata": {
  "kernelspec": {
   "display_name": "Python 3",
   "language": "python",
   "name": "python3"
  },
  "language_info": {
   "codemirror_mode": {
    "name": "ipython",
    "version": 3
   },
   "file_extension": ".py",
   "mimetype": "text/x-python",
   "name": "python",
   "nbconvert_exporter": "python",
   "pygments_lexer": "ipython3",
   "version": "3.8.8"
  }
 },
 "nbformat": 4,
 "nbformat_minor": 4
}
